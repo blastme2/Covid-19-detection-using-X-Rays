{
 "cells": [
  {
   "cell_type": "code",
   "execution_count": 1,
   "metadata": {},
   "outputs": [
    {
     "name": "stdout",
     "output_type": "stream",
     "text": [
      "Collecting git+https://github.com/mjkvaak/ImageDataAugmentor\n",
      "  Cloning https://github.com/mjkvaak/ImageDataAugmentor to c:\\users\\raj\\appdata\\local\\temp\\pip-req-build-xu_fg9zk\n",
      "Requirement already satisfied: opencv-python>=4.2 in c:\\users\\raj\\anaconda3\\lib\\site-packages (from ImageDataAugmentor==0.0.0) (4.5.2.52)\n",
      "Requirement already satisfied: matplotlib in c:\\users\\raj\\anaconda3\\lib\\site-packages (from ImageDataAugmentor==0.0.0) (3.2.2)\n",
      "Requirement already satisfied: Pillow in c:\\users\\raj\\anaconda3\\lib\\site-packages (from ImageDataAugmentor==0.0.0) (7.2.0)\n",
      "Requirement already satisfied: scipy in c:\\users\\raj\\anaconda3\\lib\\site-packages (from ImageDataAugmentor==0.0.0) (1.5.0)\n",
      "Requirement already satisfied: pandas in c:\\users\\raj\\anaconda3\\lib\\site-packages (from ImageDataAugmentor==0.0.0) (1.0.5)\n",
      "Requirement already satisfied: numpy>=1.17.3 in c:\\users\\raj\\anaconda3\\lib\\site-packages (from opencv-python>=4.2->ImageDataAugmentor==0.0.0) (1.19.5)\n",
      "Requirement already satisfied: kiwisolver>=1.0.1 in c:\\users\\raj\\anaconda3\\lib\\site-packages (from matplotlib->ImageDataAugmentor==0.0.0) (1.2.0)\n",
      "Requirement already satisfied: cycler>=0.10 in c:\\users\\raj\\anaconda3\\lib\\site-packages (from matplotlib->ImageDataAugmentor==0.0.0) (0.10.0)\n",
      "Requirement already satisfied: python-dateutil>=2.1 in c:\\users\\raj\\anaconda3\\lib\\site-packages (from matplotlib->ImageDataAugmentor==0.0.0) (2.8.1)\n",
      "Requirement already satisfied: pyparsing!=2.0.4,!=2.1.2,!=2.1.6,>=2.0.1 in c:\\users\\raj\\anaconda3\\lib\\site-packages (from matplotlib->ImageDataAugmentor==0.0.0) (2.4.7)\n",
      "Requirement already satisfied: six in c:\\users\\raj\\anaconda3\\lib\\site-packages (from cycler>=0.10->matplotlib->ImageDataAugmentor==0.0.0) (1.15.0)\n",
      "Requirement already satisfied: pytz>=2017.2 in c:\\users\\raj\\anaconda3\\lib\\site-packages (from pandas->ImageDataAugmentor==0.0.0) (2020.1)\n",
      "Note: you may need to restart the kernel to use updated packages.\n"
     ]
    },
    {
     "name": "stderr",
     "output_type": "stream",
     "text": [
      "  Running command git clone -q https://github.com/mjkvaak/ImageDataAugmentor 'C:\\Users\\Raj\\AppData\\Local\\Temp\\pip-req-build-xu_fg9zk'\n",
      "WARNING: You are using pip version 21.0.1; however, version 21.1.3 is available.\n",
      "You should consider upgrading via the 'C:\\Users\\Raj\\anaconda3\\python.exe -m pip install --upgrade pip' command.\n"
     ]
    }
   ],
   "source": [
    "pip install git+https://github.com/mjkvaak/ImageDataAugmentor"
   ]
  },
  {
   "cell_type": "code",
   "execution_count": 2,
   "metadata": {},
   "outputs": [
    {
     "name": "stdout",
     "output_type": "stream",
     "text": [
      "Requirement already satisfied: albumentations[imgaug] in c:\\users\\raj\\anaconda3\\lib\\site-packages (1.0.3)\n",
      "Requirement already satisfied: scikit-image>=0.16.1 in c:\\users\\raj\\anaconda3\\lib\\site-packages (from albumentations[imgaug]) (0.16.2)\n",
      "Requirement already satisfied: PyYAML in c:\\users\\raj\\anaconda3\\lib\\site-packages (from albumentations[imgaug]) (5.3.1)\n",
      "Requirement already satisfied: scipy in c:\\users\\raj\\anaconda3\\lib\\site-packages (from albumentations[imgaug]) (1.5.0)\n",
      "Requirement already satisfied: opencv-python-headless>=4.1.1 in c:\\users\\raj\\anaconda3\\lib\\site-packages (from albumentations[imgaug]) (4.5.2.52)\n",
      "Requirement already satisfied: numpy>=1.11.1 in c:\\users\\raj\\anaconda3\\lib\\site-packages (from albumentations[imgaug]) (1.19.5)\n",
      "Requirement already satisfied: imgaug>=0.4.0 in c:\\users\\raj\\anaconda3\\lib\\site-packages (from albumentations[imgaug]) (0.4.0)\n",
      "Requirement already satisfied: Pillow in c:\\users\\raj\\anaconda3\\lib\\site-packages (from imgaug>=0.4.0->albumentations[imgaug]) (7.2.0)\n",
      "Requirement already satisfied: matplotlib in c:\\users\\raj\\anaconda3\\lib\\site-packages (from imgaug>=0.4.0->albumentations[imgaug]) (3.2.2)\n",
      "Requirement already satisfied: imageio in c:\\users\\raj\\anaconda3\\lib\\site-packages (from imgaug>=0.4.0->albumentations[imgaug]) (2.9.0)\n",
      "Requirement already satisfied: opencv-python in c:\\users\\raj\\anaconda3\\lib\\site-packages (from imgaug>=0.4.0->albumentations[imgaug]) (4.5.2.52)\n",
      "Requirement already satisfied: Shapely in c:\\users\\raj\\anaconda3\\lib\\site-packages (from imgaug>=0.4.0->albumentations[imgaug]) (1.7.1)\n",
      "Requirement already satisfied: six in c:\\users\\raj\\anaconda3\\lib\\site-packages (from imgaug>=0.4.0->albumentations[imgaug]) (1.15.0)\n",
      "Requirement already satisfied: networkx>=2.0 in c:\\users\\raj\\anaconda3\\lib\\site-packages (from scikit-image>=0.16.1->albumentations[imgaug]) (2.4)\n",
      "Requirement already satisfied: PyWavelets>=0.4.0 in c:\\users\\raj\\anaconda3\\lib\\site-packages (from scikit-image>=0.16.1->albumentations[imgaug]) (1.1.1)\n",
      "Requirement already satisfied: kiwisolver>=1.0.1 in c:\\users\\raj\\anaconda3\\lib\\site-packages (from matplotlib->imgaug>=0.4.0->albumentations[imgaug]) (1.2.0)\n",
      "Requirement already satisfied: python-dateutil>=2.1 in c:\\users\\raj\\anaconda3\\lib\\site-packages (from matplotlib->imgaug>=0.4.0->albumentations[imgaug]) (2.8.1)\n",
      "Requirement already satisfied: cycler>=0.10 in c:\\users\\raj\\anaconda3\\lib\\site-packages (from matplotlib->imgaug>=0.4.0->albumentations[imgaug]) (0.10.0)\n",
      "Requirement already satisfied: pyparsing!=2.0.4,!=2.1.2,!=2.1.6,>=2.0.1 in c:\\users\\raj\\anaconda3\\lib\\site-packages (from matplotlib->imgaug>=0.4.0->albumentations[imgaug]) (2.4.7)\n",
      "Requirement already satisfied: decorator>=4.3.0 in c:\\users\\raj\\anaconda3\\lib\\site-packages (from networkx>=2.0->scikit-image>=0.16.1->albumentations[imgaug]) (4.4.2)\n",
      "Note: you may need to restart the kernel to use updated packages.\n"
     ]
    },
    {
     "name": "stderr",
     "output_type": "stream",
     "text": [
      "WARNING: You are using pip version 21.0.1; however, version 21.1.3 is available.\n",
      "You should consider upgrading via the 'C:\\Users\\Raj\\anaconda3\\python.exe -m pip install --upgrade pip' command.\n"
     ]
    }
   ],
   "source": [
    "pip install -U albumentations[imgaug]"
   ]
  },
  {
   "cell_type": "code",
   "execution_count": 3,
   "metadata": {},
   "outputs": [
    {
     "name": "stdout",
     "output_type": "stream",
     "text": [
      "Requirement already satisfied: albumentations in c:\\users\\raj\\anaconda3\\lib\\site-packages (1.0.3)\n",
      "Requirement already satisfied: scikit-image>=0.16.1 in c:\\users\\raj\\anaconda3\\lib\\site-packages (from albumentations) (0.16.2)\n",
      "Requirement already satisfied: opencv-python-headless>=4.1.1 in c:\\users\\raj\\anaconda3\\lib\\site-packages (from albumentations) (4.5.2.52)\n",
      "Requirement already satisfied: PyYAML in c:\\users\\raj\\anaconda3\\lib\\site-packages (from albumentations) (5.3.1)\n",
      "Requirement already satisfied: numpy>=1.11.1 in c:\\users\\raj\\anaconda3\\lib\\site-packages (from albumentations) (1.19.5)\n",
      "Requirement already satisfied: scipy in c:\\users\\raj\\anaconda3\\lib\\site-packages (from albumentations) (1.5.0)\n",
      "Requirement already satisfied: imageio>=2.3.0 in c:\\users\\raj\\anaconda3\\lib\\site-packages (from scikit-image>=0.16.1->albumentations) (2.9.0)\n",
      "Requirement already satisfied: networkx>=2.0 in c:\\users\\raj\\anaconda3\\lib\\site-packages (from scikit-image>=0.16.1->albumentations) (2.4)\n",
      "Requirement already satisfied: pillow>=4.3.0 in c:\\users\\raj\\anaconda3\\lib\\site-packages (from scikit-image>=0.16.1->albumentations) (7.2.0)\n",
      "Requirement already satisfied: PyWavelets>=0.4.0 in c:\\users\\raj\\anaconda3\\lib\\site-packages (from scikit-image>=0.16.1->albumentations) (1.1.1)\n",
      "Requirement already satisfied: matplotlib!=3.0.0,>=2.0.0 in c:\\users\\raj\\anaconda3\\lib\\site-packages (from scikit-image>=0.16.1->albumentations) (3.2.2)\n",
      "Requirement already satisfied: python-dateutil>=2.1 in c:\\users\\raj\\anaconda3\\lib\\site-packages (from matplotlib!=3.0.0,>=2.0.0->scikit-image>=0.16.1->albumentations) (2.8.1)\n",
      "Requirement already satisfied: kiwisolver>=1.0.1 in c:\\users\\raj\\anaconda3\\lib\\site-packages (from matplotlib!=3.0.0,>=2.0.0->scikit-image>=0.16.1->albumentations) (1.2.0)\n",
      "Requirement already satisfied: cycler>=0.10 in c:\\users\\raj\\anaconda3\\lib\\site-packages (from matplotlib!=3.0.0,>=2.0.0->scikit-image>=0.16.1->albumentations) (0.10.0)\n",
      "Requirement already satisfied: pyparsing!=2.0.4,!=2.1.2,!=2.1.6,>=2.0.1 in c:\\users\\raj\\anaconda3\\lib\\site-packages (from matplotlib!=3.0.0,>=2.0.0->scikit-image>=0.16.1->albumentations) (2.4.7)\n",
      "Requirement already satisfied: six in c:\\users\\raj\\anaconda3\\lib\\site-packages (from cycler>=0.10->matplotlib!=3.0.0,>=2.0.0->scikit-image>=0.16.1->albumentations) (1.15.0)\n",
      "Requirement already satisfied: decorator>=4.3.0 in c:\\users\\raj\\anaconda3\\lib\\site-packages (from networkx>=2.0->scikit-image>=0.16.1->albumentations) (4.4.2)\n",
      "Note: you may need to restart the kernel to use updated packages.\n"
     ]
    },
    {
     "name": "stderr",
     "output_type": "stream",
     "text": [
      "WARNING: You are using pip version 21.0.1; however, version 21.1.3 is available.\n",
      "You should consider upgrading via the 'C:\\Users\\Raj\\anaconda3\\python.exe -m pip install --upgrade pip' command.\n"
     ]
    }
   ],
   "source": [
    "pip install -U albumentations"
   ]
  },
  {
   "cell_type": "code",
   "execution_count": 4,
   "metadata": {},
   "outputs": [],
   "source": [
    "from ImageDataAugmentor.image_data_augmentor import *"
   ]
  },
  {
   "cell_type": "code",
   "execution_count": 5,
   "metadata": {},
   "outputs": [],
   "source": [
    "import glob\n",
    "import pandas as pd\n",
    "import os\n",
    "import numpy as np\n",
    "import imageio\n",
    "from PIL import Image\n",
    "from matplotlib import pyplot\n",
    "from PIL import Image\n",
    "from matplotlib.pyplot import imshow\n",
    "import matplotlib.pyplot as plt\n",
    "from skimage.transform import resize\n",
    "from efficientnet.tfkeras import EfficientNetB4"
   ]
  },
  {
   "cell_type": "code",
   "execution_count": 6,
   "metadata": {},
   "outputs": [],
   "source": [
    "covid=os.listdir(r'C:\\Users\\Raj\\Downloads\\covid\\COVID-19_Radiography_Dataset\\COVID')\n",
    "normal=os.listdir(r'C:\\Users\\Raj\\Downloads\\covid\\COVID-19_Radiography_Dataset\\Normal')"
   ]
  },
  {
   "cell_type": "code",
   "execution_count": 7,
   "metadata": {
    "scrolled": true
   },
   "outputs": [
    {
     "data": {
      "text/html": [
       "<div>\n",
       "<style scoped>\n",
       "    .dataframe tbody tr th:only-of-type {\n",
       "        vertical-align: middle;\n",
       "    }\n",
       "\n",
       "    .dataframe tbody tr th {\n",
       "        vertical-align: top;\n",
       "    }\n",
       "\n",
       "    .dataframe thead th {\n",
       "        text-align: right;\n",
       "    }\n",
       "</style>\n",
       "<table border=\"1\" class=\"dataframe\">\n",
       "  <thead>\n",
       "    <tr style=\"text-align: right;\">\n",
       "      <th></th>\n",
       "      <th>file</th>\n",
       "      <th>label</th>\n",
       "    </tr>\n",
       "  </thead>\n",
       "  <tbody>\n",
       "    <tr>\n",
       "      <th>0</th>\n",
       "      <td>COVID-1.png</td>\n",
       "      <td>covid</td>\n",
       "    </tr>\n",
       "    <tr>\n",
       "      <th>1</th>\n",
       "      <td>COVID-10.png</td>\n",
       "      <td>covid</td>\n",
       "    </tr>\n",
       "    <tr>\n",
       "      <th>2</th>\n",
       "      <td>COVID-100.png</td>\n",
       "      <td>covid</td>\n",
       "    </tr>\n",
       "    <tr>\n",
       "      <th>3</th>\n",
       "      <td>COVID-1000.png</td>\n",
       "      <td>covid</td>\n",
       "    </tr>\n",
       "    <tr>\n",
       "      <th>4</th>\n",
       "      <td>COVID-1001.png</td>\n",
       "      <td>covid</td>\n",
       "    </tr>\n",
       "  </tbody>\n",
       "</table>\n",
       "</div>"
      ],
      "text/plain": [
       "             file  label\n",
       "0     COVID-1.png  covid\n",
       "1    COVID-10.png  covid\n",
       "2   COVID-100.png  covid\n",
       "3  COVID-1000.png  covid\n",
       "4  COVID-1001.png  covid"
      ]
     },
     "execution_count": 7,
     "metadata": {},
     "output_type": "execute_result"
    }
   ],
   "source": [
    "cov=list(zip(covid,['covid']*(len(covid))))\n",
    "covid_df = pd.DataFrame(cov,columns=['file','label']) \n",
    "covid_df.head()"
   ]
  },
  {
   "cell_type": "code",
   "execution_count": 8,
   "metadata": {},
   "outputs": [
    {
     "data": {
      "text/html": [
       "<div>\n",
       "<style scoped>\n",
       "    .dataframe tbody tr th:only-of-type {\n",
       "        vertical-align: middle;\n",
       "    }\n",
       "\n",
       "    .dataframe tbody tr th {\n",
       "        vertical-align: top;\n",
       "    }\n",
       "\n",
       "    .dataframe thead th {\n",
       "        text-align: right;\n",
       "    }\n",
       "</style>\n",
       "<table border=\"1\" class=\"dataframe\">\n",
       "  <thead>\n",
       "    <tr style=\"text-align: right;\">\n",
       "      <th></th>\n",
       "      <th>file</th>\n",
       "      <th>label</th>\n",
       "    </tr>\n",
       "  </thead>\n",
       "  <tbody>\n",
       "    <tr>\n",
       "      <th>0</th>\n",
       "      <td>Normal-1.png</td>\n",
       "      <td>normal</td>\n",
       "    </tr>\n",
       "    <tr>\n",
       "      <th>1</th>\n",
       "      <td>Normal-10.png</td>\n",
       "      <td>normal</td>\n",
       "    </tr>\n",
       "    <tr>\n",
       "      <th>2</th>\n",
       "      <td>Normal-100.png</td>\n",
       "      <td>normal</td>\n",
       "    </tr>\n",
       "    <tr>\n",
       "      <th>3</th>\n",
       "      <td>Normal-1000.png</td>\n",
       "      <td>normal</td>\n",
       "    </tr>\n",
       "    <tr>\n",
       "      <th>4</th>\n",
       "      <td>Normal-10000.png</td>\n",
       "      <td>normal</td>\n",
       "    </tr>\n",
       "  </tbody>\n",
       "</table>\n",
       "</div>"
      ],
      "text/plain": [
       "               file   label\n",
       "0      Normal-1.png  normal\n",
       "1     Normal-10.png  normal\n",
       "2    Normal-100.png  normal\n",
       "3   Normal-1000.png  normal\n",
       "4  Normal-10000.png  normal"
      ]
     },
     "execution_count": 8,
     "metadata": {},
     "output_type": "execute_result"
    }
   ],
   "source": [
    "norm=list(zip(normal,['normal']*(len(normal))))\n",
    "normal_df = pd.DataFrame(norm,columns=['file','label']) \n",
    "normal_df.head()"
   ]
  },
  {
   "cell_type": "code",
   "execution_count": 9,
   "metadata": {},
   "outputs": [
    {
     "data": {
      "text/html": [
       "<div>\n",
       "<style scoped>\n",
       "    .dataframe tbody tr th:only-of-type {\n",
       "        vertical-align: middle;\n",
       "    }\n",
       "\n",
       "    .dataframe tbody tr th {\n",
       "        vertical-align: top;\n",
       "    }\n",
       "\n",
       "    .dataframe thead th {\n",
       "        text-align: right;\n",
       "    }\n",
       "</style>\n",
       "<table border=\"1\" class=\"dataframe\">\n",
       "  <thead>\n",
       "    <tr style=\"text-align: right;\">\n",
       "      <th></th>\n",
       "      <th>file</th>\n",
       "      <th>label</th>\n",
       "    </tr>\n",
       "  </thead>\n",
       "  <tbody>\n",
       "    <tr>\n",
       "      <th>0</th>\n",
       "      <td>COVID-1.png</td>\n",
       "      <td>covid</td>\n",
       "    </tr>\n",
       "    <tr>\n",
       "      <th>1</th>\n",
       "      <td>COVID-10.png</td>\n",
       "      <td>covid</td>\n",
       "    </tr>\n",
       "    <tr>\n",
       "      <th>2</th>\n",
       "      <td>COVID-100.png</td>\n",
       "      <td>covid</td>\n",
       "    </tr>\n",
       "    <tr>\n",
       "      <th>3</th>\n",
       "      <td>COVID-1000.png</td>\n",
       "      <td>covid</td>\n",
       "    </tr>\n",
       "    <tr>\n",
       "      <th>4</th>\n",
       "      <td>COVID-1001.png</td>\n",
       "      <td>covid</td>\n",
       "    </tr>\n",
       "  </tbody>\n",
       "</table>\n",
       "</div>"
      ],
      "text/plain": [
       "             file  label\n",
       "0     COVID-1.png  covid\n",
       "1    COVID-10.png  covid\n",
       "2   COVID-100.png  covid\n",
       "3  COVID-1000.png  covid\n",
       "4  COVID-1001.png  covid"
      ]
     },
     "execution_count": 9,
     "metadata": {},
     "output_type": "execute_result"
    }
   ],
   "source": [
    "dataframe=pd.concat([covid_df,normal_df])\n",
    "dataframe.head()"
   ]
  },
  {
   "cell_type": "code",
   "execution_count": 10,
   "metadata": {},
   "outputs": [
    {
     "data": {
      "text/html": [
       "<div>\n",
       "<style scoped>\n",
       "    .dataframe tbody tr th:only-of-type {\n",
       "        vertical-align: middle;\n",
       "    }\n",
       "\n",
       "    .dataframe tbody tr th {\n",
       "        vertical-align: top;\n",
       "    }\n",
       "\n",
       "    .dataframe thead th {\n",
       "        text-align: right;\n",
       "    }\n",
       "</style>\n",
       "<table border=\"1\" class=\"dataframe\">\n",
       "  <thead>\n",
       "    <tr style=\"text-align: right;\">\n",
       "      <th></th>\n",
       "      <th>covid</th>\n",
       "      <th>normal</th>\n",
       "    </tr>\n",
       "  </thead>\n",
       "  <tbody>\n",
       "    <tr>\n",
       "      <th>0</th>\n",
       "      <td>1</td>\n",
       "      <td>0</td>\n",
       "    </tr>\n",
       "    <tr>\n",
       "      <th>1</th>\n",
       "      <td>1</td>\n",
       "      <td>0</td>\n",
       "    </tr>\n",
       "    <tr>\n",
       "      <th>2</th>\n",
       "      <td>1</td>\n",
       "      <td>0</td>\n",
       "    </tr>\n",
       "    <tr>\n",
       "      <th>3</th>\n",
       "      <td>1</td>\n",
       "      <td>0</td>\n",
       "    </tr>\n",
       "    <tr>\n",
       "      <th>4</th>\n",
       "      <td>1</td>\n",
       "      <td>0</td>\n",
       "    </tr>\n",
       "  </tbody>\n",
       "</table>\n",
       "</div>"
      ],
      "text/plain": [
       "   covid  normal\n",
       "0      1       0\n",
       "1      1       0\n",
       "2      1       0\n",
       "3      1       0\n",
       "4      1       0"
      ]
     },
     "execution_count": 10,
     "metadata": {},
     "output_type": "execute_result"
    }
   ],
   "source": [
    "df = pd.get_dummies(dataframe['label'])\n",
    "df.head()"
   ]
  },
  {
   "cell_type": "code",
   "execution_count": 11,
   "metadata": {},
   "outputs": [
    {
     "data": {
      "text/html": [
       "<div>\n",
       "<style scoped>\n",
       "    .dataframe tbody tr th:only-of-type {\n",
       "        vertical-align: middle;\n",
       "    }\n",
       "\n",
       "    .dataframe tbody tr th {\n",
       "        vertical-align: top;\n",
       "    }\n",
       "\n",
       "    .dataframe thead th {\n",
       "        text-align: right;\n",
       "    }\n",
       "</style>\n",
       "<table border=\"1\" class=\"dataframe\">\n",
       "  <thead>\n",
       "    <tr style=\"text-align: right;\">\n",
       "      <th></th>\n",
       "      <th>file</th>\n",
       "      <th>label</th>\n",
       "      <th>covid</th>\n",
       "      <th>normal</th>\n",
       "    </tr>\n",
       "  </thead>\n",
       "  <tbody>\n",
       "    <tr>\n",
       "      <th>0</th>\n",
       "      <td>COVID-1.png</td>\n",
       "      <td>covid</td>\n",
       "      <td>1</td>\n",
       "      <td>0</td>\n",
       "    </tr>\n",
       "    <tr>\n",
       "      <th>1</th>\n",
       "      <td>COVID-10.png</td>\n",
       "      <td>covid</td>\n",
       "      <td>1</td>\n",
       "      <td>0</td>\n",
       "    </tr>\n",
       "    <tr>\n",
       "      <th>2</th>\n",
       "      <td>COVID-100.png</td>\n",
       "      <td>covid</td>\n",
       "      <td>1</td>\n",
       "      <td>0</td>\n",
       "    </tr>\n",
       "    <tr>\n",
       "      <th>3</th>\n",
       "      <td>COVID-1000.png</td>\n",
       "      <td>covid</td>\n",
       "      <td>1</td>\n",
       "      <td>0</td>\n",
       "    </tr>\n",
       "    <tr>\n",
       "      <th>4</th>\n",
       "      <td>COVID-1001.png</td>\n",
       "      <td>covid</td>\n",
       "      <td>1</td>\n",
       "      <td>0</td>\n",
       "    </tr>\n",
       "  </tbody>\n",
       "</table>\n",
       "</div>"
      ],
      "text/plain": [
       "             file  label  covid  normal\n",
       "0     COVID-1.png  covid      1       0\n",
       "1    COVID-10.png  covid      1       0\n",
       "2   COVID-100.png  covid      1       0\n",
       "3  COVID-1000.png  covid      1       0\n",
       "4  COVID-1001.png  covid      1       0"
      ]
     },
     "execution_count": 11,
     "metadata": {},
     "output_type": "execute_result"
    }
   ],
   "source": [
    "df = pd.concat([dataframe, df], axis=1)\n",
    "df.head()"
   ]
  },
  {
   "cell_type": "code",
   "execution_count": 12,
   "metadata": {},
   "outputs": [],
   "source": [
    "df=df.sample(frac=1)"
   ]
  },
  {
   "cell_type": "code",
   "execution_count": 13,
   "metadata": {},
   "outputs": [
    {
     "data": {
      "text/html": [
       "<div>\n",
       "<style scoped>\n",
       "    .dataframe tbody tr th:only-of-type {\n",
       "        vertical-align: middle;\n",
       "    }\n",
       "\n",
       "    .dataframe tbody tr th {\n",
       "        vertical-align: top;\n",
       "    }\n",
       "\n",
       "    .dataframe thead th {\n",
       "        text-align: right;\n",
       "    }\n",
       "</style>\n",
       "<table border=\"1\" class=\"dataframe\">\n",
       "  <thead>\n",
       "    <tr style=\"text-align: right;\">\n",
       "      <th></th>\n",
       "      <th>file</th>\n",
       "      <th>label</th>\n",
       "      <th>covid</th>\n",
       "      <th>normal</th>\n",
       "    </tr>\n",
       "  </thead>\n",
       "  <tbody>\n",
       "    <tr>\n",
       "      <th>2315</th>\n",
       "      <td>Normal-2909.png</td>\n",
       "      <td>normal</td>\n",
       "      <td>0</td>\n",
       "      <td>1</td>\n",
       "    </tr>\n",
       "    <tr>\n",
       "      <th>6526</th>\n",
       "      <td>Normal-67.png</td>\n",
       "      <td>normal</td>\n",
       "      <td>0</td>\n",
       "      <td>1</td>\n",
       "    </tr>\n",
       "    <tr>\n",
       "      <th>10170</th>\n",
       "      <td>Normal-998.png</td>\n",
       "      <td>normal</td>\n",
       "      <td>0</td>\n",
       "      <td>1</td>\n",
       "    </tr>\n",
       "    <tr>\n",
       "      <th>4398</th>\n",
       "      <td>Normal-4784.png</td>\n",
       "      <td>normal</td>\n",
       "      <td>0</td>\n",
       "      <td>1</td>\n",
       "    </tr>\n",
       "    <tr>\n",
       "      <th>6253</th>\n",
       "      <td>Normal-6453.png</td>\n",
       "      <td>normal</td>\n",
       "      <td>0</td>\n",
       "      <td>1</td>\n",
       "    </tr>\n",
       "    <tr>\n",
       "      <th>...</th>\n",
       "      <td>...</td>\n",
       "      <td>...</td>\n",
       "      <td>...</td>\n",
       "      <td>...</td>\n",
       "    </tr>\n",
       "    <tr>\n",
       "      <th>3113</th>\n",
       "      <td>COVID-546.png</td>\n",
       "      <td>covid</td>\n",
       "      <td>1</td>\n",
       "      <td>0</td>\n",
       "    </tr>\n",
       "    <tr>\n",
       "      <th>4812</th>\n",
       "      <td>Normal-5156.png</td>\n",
       "      <td>normal</td>\n",
       "      <td>0</td>\n",
       "      <td>1</td>\n",
       "    </tr>\n",
       "    <tr>\n",
       "      <th>136</th>\n",
       "      <td>Normal-1012.png</td>\n",
       "      <td>normal</td>\n",
       "      <td>0</td>\n",
       "      <td>1</td>\n",
       "    </tr>\n",
       "    <tr>\n",
       "      <th>983</th>\n",
       "      <td>Normal-171.png</td>\n",
       "      <td>normal</td>\n",
       "      <td>0</td>\n",
       "      <td>1</td>\n",
       "    </tr>\n",
       "    <tr>\n",
       "      <th>1240</th>\n",
       "      <td>COVID-2114.png</td>\n",
       "      <td>covid</td>\n",
       "      <td>1</td>\n",
       "      <td>0</td>\n",
       "    </tr>\n",
       "  </tbody>\n",
       "</table>\n",
       "<p>13808 rows × 4 columns</p>\n",
       "</div>"
      ],
      "text/plain": [
       "                  file   label  covid  normal\n",
       "2315   Normal-2909.png  normal      0       1\n",
       "6526     Normal-67.png  normal      0       1\n",
       "10170   Normal-998.png  normal      0       1\n",
       "4398   Normal-4784.png  normal      0       1\n",
       "6253   Normal-6453.png  normal      0       1\n",
       "...                ...     ...    ...     ...\n",
       "3113     COVID-546.png   covid      1       0\n",
       "4812   Normal-5156.png  normal      0       1\n",
       "136    Normal-1012.png  normal      0       1\n",
       "983     Normal-171.png  normal      0       1\n",
       "1240    COVID-2114.png   covid      1       0\n",
       "\n",
       "[13808 rows x 4 columns]"
      ]
     },
     "execution_count": 13,
     "metadata": {},
     "output_type": "execute_result"
    }
   ],
   "source": [
    "df"
   ]
  },
  {
   "cell_type": "code",
   "execution_count": 14,
   "metadata": {},
   "outputs": [],
   "source": [
    "import numpy as np \n",
    "import pandas as pd \n",
    "import matplotlib.pyplot as plt\n",
    "from albumentations import *"
   ]
  },
  {
   "cell_type": "code",
   "execution_count": 15,
   "metadata": {},
   "outputs": [
    {
     "name": "stderr",
     "output_type": "stream",
     "text": [
      "C:\\Users\\Raj\\anaconda3\\lib\\site-packages\\albumentations\\imgaug\\transforms.py:252: FutureWarning: IAAAdditiveGaussianNoise is deprecated. Please use GaussNoise instead\n",
      "  warnings.warn(\"IAAAdditiveGaussianNoise is deprecated. Please use GaussNoise instead\", FutureWarning)\n",
      "C:\\Users\\Raj\\anaconda3\\lib\\site-packages\\albumentations\\imgaug\\transforms.py:290: FutureWarning: This IAAPiecewiseAffine is deprecated. Please use PiecewiseAffine instead\n",
      "  warnings.warn(\"This IAAPiecewiseAffine is deprecated. Please use PiecewiseAffine instead\", FutureWarning)\n",
      "C:\\Users\\Raj\\anaconda3\\lib\\site-packages\\albumentations\\imgaug\\transforms.py:222: FutureWarning: IAASharpen is deprecated. Please use Sharpen instead\n",
      "  warnings.warn(\"IAASharpen is deprecated. Please use Sharpen instead\", FutureWarning)\n",
      "C:\\Users\\Raj\\anaconda3\\lib\\site-packages\\albumentations\\imgaug\\transforms.py:165: FutureWarning: This augmentation is deprecated. Please use Emboss instead\n",
      "  warnings.warn(\"This augmentation is deprecated. Please use Emboss instead\", FutureWarning)\n",
      "C:\\Users\\Raj\\anaconda3\\lib\\site-packages\\albumentations\\augmentations\\transforms.py:1770: FutureWarning: This class has been deprecated. Please use RandomBrightnessContrast\n",
      "  warnings.warn(\n",
      "C:\\Users\\Raj\\anaconda3\\lib\\site-packages\\albumentations\\augmentations\\transforms.py:1744: FutureWarning: This class has been deprecated. Please use RandomBrightnessContrast\n",
      "  warnings.warn(\n"
     ]
    }
   ],
   "source": [
    "aug=Compose([\n",
    "        RandomRotate90(),\n",
    "        Flip(),\n",
    "        Transpose(),\n",
    "        OneOf([\n",
    "            IAAAdditiveGaussianNoise(),\n",
    "            GaussNoise(),\n",
    "            \n",
    "        ], p=0.2),\n",
    "        OneOf([\n",
    "            MotionBlur(p=.2),\n",
    "            MedianBlur(blur_limit=3, p=.1),\n",
    "            Blur(blur_limit=3, p=.1),\n",
    "        ], p=0.3),\n",
    "        ShiftScaleRotate(shift_limit=0.0625, scale_limit=0.2, rotate_limit=45, p=.2),\n",
    "        OneOf([\n",
    "            OpticalDistortion(p=0.3),\n",
    "            GridDistortion(p=.1),\n",
    "            IAAPiecewiseAffine(p=0.3),\n",
    "        ], p=0.3),\n",
    "        OneOf([\n",
    "            CLAHE(clip_limit=2),\n",
    "            IAASharpen(),\n",
    "            IAAEmboss(),\n",
    "            RandomContrast(),\n",
    "            RandomBrightness(),\n",
    "        ], p=0.3),\n",
    "        #HueSaturationValue(p=0.3),\n",
    "    ], p=1)"
   ]
  },
  {
   "cell_type": "code",
   "execution_count": 16,
   "metadata": {},
   "outputs": [],
   "source": [
    "from ImageDataAugmentor.image_data_augmentor import *\n",
    "data_gen= ImageDataAugmentor(\n",
    "    #horizontal_flip=True,\n",
    "    #vertical_flip=True,\n",
    "    #rotation_range=90,\n",
    "    # width_shift_range=0.2,\n",
    "    # height_shift_range=0.2,\n",
    "    # zoom_range=.2,\n",
    "    rescale=1/255,\n",
    "    # fill_mode='nearest',\n",
    "    # shear_range=0.2,\n",
    "    # brightness_range=[0.2, 2.0],\n",
    "    augment =aug)"
   ]
  },
  {
   "cell_type": "code",
   "execution_count": 17,
   "metadata": {},
   "outputs": [],
   "source": [
    "img_shape=64\n",
    "batch_size=32"
   ]
  },
  {
   "cell_type": "code",
   "execution_count": 18,
   "metadata": {},
   "outputs": [],
   "source": [
    "from tensorflow.keras.models import Sequential,Model\n",
    "from tensorflow.keras.layers import Activation, Dropout, Flatten, Dense, Conv2D, MaxPool2D, BatchNormalization,Input,MaxPooling2D,GlobalMaxPooling2D,concatenate\n",
    "from tensorflow.keras.layers import GlobalAveragePooling2D\n",
    "from tensorflow.keras.applications.resnet50 import ResNet50\n",
    "from tensorflow.keras.callbacks import ModelCheckpoint,ReduceLROnPlateau\n",
    "from tensorflow.keras.optimizers import Adam\n",
    "import tensorflow.keras.backend as K\n",
    "import tensorflow as tf"
   ]
  },
  {
   "cell_type": "code",
   "execution_count": 19,
   "metadata": {},
   "outputs": [
    {
     "name": "stdout",
     "output_type": "stream",
     "text": [
      "Collecting git+https://github.com/qubvel/efficientnet\n",
      "  Cloning https://github.com/qubvel/efficientnet to c:\\users\\raj\\appdata\\local\\temp\\pip-req-build-thuio77r\n",
      "Requirement already satisfied: keras_applications<=1.0.8,>=1.0.7 in c:\\users\\raj\\anaconda3\\lib\\site-packages (from efficientnet==1.1.1) (1.0.8)\n",
      "Requirement already satisfied: scikit-image in c:\\users\\raj\\anaconda3\\lib\\site-packages (from efficientnet==1.1.1) (0.16.2)\n",
      "Requirement already satisfied: h5py in c:\\users\\raj\\anaconda3\\lib\\site-packages (from keras_applications<=1.0.8,>=1.0.7->efficientnet==1.1.1) (2.10.0)\n",
      "Note: you may need to restart the kernel to use updated packages.\n"
     ]
    },
    {
     "name": "stderr",
     "output_type": "stream",
     "text": [
      "  Running command git clone -q https://github.com/qubvel/efficientnet 'C:\\Users\\Raj\\AppData\\Local\\Temp\\pip-req-build-thuio77r'\n",
      "WARNING: You are using pip version 21.0.1; however, version 21.1.3 is available.\n",
      "You should consider upgrading via the 'C:\\Users\\Raj\\anaconda3\\python.exe -m pip install --upgrade pip' command.\n"
     ]
    },
    {
     "name": "stdout",
     "output_type": "stream",
     "text": [
      "Requirement already satisfied: numpy>=1.9.1 in c:\\users\\raj\\anaconda3\\lib\\site-packages (from keras_applications<=1.0.8,>=1.0.7->efficientnet==1.1.1) (1.19.5)\n",
      "Requirement already satisfied: six in c:\\users\\raj\\anaconda3\\lib\\site-packages (from h5py->keras_applications<=1.0.8,>=1.0.7->efficientnet==1.1.1) (1.15.0)\n",
      "Requirement already satisfied: pillow>=4.3.0 in c:\\users\\raj\\anaconda3\\lib\\site-packages (from scikit-image->efficientnet==1.1.1) (7.2.0)\n",
      "Requirement already satisfied: matplotlib!=3.0.0,>=2.0.0 in c:\\users\\raj\\anaconda3\\lib\\site-packages (from scikit-image->efficientnet==1.1.1) (3.2.2)\n",
      "Requirement already satisfied: imageio>=2.3.0 in c:\\users\\raj\\anaconda3\\lib\\site-packages (from scikit-image->efficientnet==1.1.1) (2.9.0)\n",
      "Requirement already satisfied: scipy>=0.19.0 in c:\\users\\raj\\anaconda3\\lib\\site-packages (from scikit-image->efficientnet==1.1.1) (1.5.0)\n",
      "Requirement already satisfied: PyWavelets>=0.4.0 in c:\\users\\raj\\anaconda3\\lib\\site-packages (from scikit-image->efficientnet==1.1.1) (1.1.1)\n",
      "Requirement already satisfied: networkx>=2.0 in c:\\users\\raj\\anaconda3\\lib\\site-packages (from scikit-image->efficientnet==1.1.1) (2.4)\n",
      "Requirement already satisfied: cycler>=0.10 in c:\\users\\raj\\anaconda3\\lib\\site-packages (from matplotlib!=3.0.0,>=2.0.0->scikit-image->efficientnet==1.1.1) (0.10.0)\n",
      "Requirement already satisfied: kiwisolver>=1.0.1 in c:\\users\\raj\\anaconda3\\lib\\site-packages (from matplotlib!=3.0.0,>=2.0.0->scikit-image->efficientnet==1.1.1) (1.2.0)\n",
      "Requirement already satisfied: python-dateutil>=2.1 in c:\\users\\raj\\anaconda3\\lib\\site-packages (from matplotlib!=3.0.0,>=2.0.0->scikit-image->efficientnet==1.1.1) (2.8.1)\n",
      "Requirement already satisfied: pyparsing!=2.0.4,!=2.1.2,!=2.1.6,>=2.0.1 in c:\\users\\raj\\anaconda3\\lib\\site-packages (from matplotlib!=3.0.0,>=2.0.0->scikit-image->efficientnet==1.1.1) (2.4.7)\n",
      "Requirement already satisfied: decorator>=4.3.0 in c:\\users\\raj\\anaconda3\\lib\\site-packages (from networkx>=2.0->scikit-image->efficientnet==1.1.1) (4.4.2)\n"
     ]
    }
   ],
   "source": [
    "pip install -U git+https://github.com/qubvel/efficientnet"
   ]
  },
  {
   "cell_type": "code",
   "execution_count": 20,
   "metadata": {
    "scrolled": false
   },
   "outputs": [
    {
     "name": "stdout",
     "output_type": "stream",
     "text": [
      "-----------fold 0--------------\n",
      "Found 11046 validated image filenames.\n",
      "Found 2762 validated image filenames.\n",
      "Epoch 1/11\n",
      "345/345 [==============================] - 645s 2s/step - loss: 0.5450 - accuracy: 0.7654 - val_loss: 0.6316 - val_accuracy: 0.8034\n",
      "Epoch 2/11\n",
      "345/345 [==============================] - 614s 2s/step - loss: 0.4218 - accuracy: 0.8636 - val_loss: 0.3668 - val_accuracy: 0.8983\n",
      "Epoch 3/11\n",
      "345/345 [==============================] - 610s 2s/step - loss: 0.3966 - accuracy: 0.8784 - val_loss: 0.3643 - val_accuracy: 0.9026\n",
      "Epoch 4/11\n",
      "345/345 [==============================] - 617s 2s/step - loss: 0.3553 - accuracy: 0.9056 - val_loss: 0.3632 - val_accuracy: 0.9012\n",
      "Epoch 5/11\n",
      "345/345 [==============================] - 618s 2s/step - loss: 0.3339 - accuracy: 0.9156 - val_loss: 0.3311 - val_accuracy: 0.9189\n",
      "Epoch 6/11\n",
      "345/345 [==============================] - 624s 2s/step - loss: 0.3273 - accuracy: 0.9219 - val_loss: 0.3010 - val_accuracy: 0.9410\n",
      "Epoch 7/11\n",
      "345/345 [==============================] - 626s 2s/step - loss: 0.3183 - accuracy: 0.9296 - val_loss: 0.3027 - val_accuracy: 0.9410\n",
      "Epoch 8/11\n",
      "345/345 [==============================] - 621s 2s/step - loss: 0.3049 - accuracy: 0.9351 - val_loss: 0.3257 - val_accuracy: 0.9290\n",
      "Epoch 9/11\n",
      "345/345 [==============================] - 626s 2s/step - loss: 0.3031 - accuracy: 0.9404 - val_loss: 0.3154 - val_accuracy: 0.9345\n",
      "Epoch 10/11\n",
      "345/345 [==============================] - 630s 2s/step - loss: 0.2852 - accuracy: 0.9491 - val_loss: 0.2784 - val_accuracy: 0.9518\n",
      "Epoch 11/11\n",
      "345/345 [==============================] - 625s 2s/step - loss: 0.2807 - accuracy: 0.9512 - val_loss: 0.2785 - val_accuracy: 0.9508\n",
      "86/86 [==============================] - 31s 335ms/step\n"
     ]
    },
    {
     "name": "stderr",
     "output_type": "stream",
     "text": [
      "C:\\Users\\Raj\\anaconda3\\lib\\site-packages\\sklearn\\metrics\\_classification.py:1221: UndefinedMetricWarning: Precision and F-score are ill-defined and being set to 0.0 in samples with no predicted labels. Use `zero_division` parameter to control this behavior.\n",
      "  _warn_prf(average, modifier, msg_start, len(result))\n"
     ]
    },
    {
     "name": "stdout",
     "output_type": "stream",
     "text": [
      "f1 score is  0.765977606044146\n",
      "-----------fold 1--------------\n",
      "Found 11046 validated image filenames.\n",
      "Found 2762 validated image filenames.\n",
      "Epoch 1/11\n",
      "345/345 [==============================] - 651s 2s/step - loss: 0.5535 - accuracy: 0.7553 - val_loss: 0.4675 - val_accuracy: 0.8320\n",
      "Epoch 2/11\n",
      "345/345 [==============================] - 633s 2s/step - loss: 0.4189 - accuracy: 0.8574 - val_loss: 0.4122 - val_accuracy: 0.8729\n",
      "Epoch 3/11\n",
      "345/345 [==============================] - 636s 2s/step - loss: 0.3873 - accuracy: 0.8831 - val_loss: 0.3639 - val_accuracy: 0.8878\n",
      "Epoch 4/11\n",
      "345/345 [==============================] - 637s 2s/step - loss: 0.3786 - accuracy: 0.8926 - val_loss: 0.3402 - val_accuracy: 0.9131\n",
      "Epoch 5/11\n",
      "345/345 [==============================] - 627s 2s/step - loss: 0.3445 - accuracy: 0.9109 - val_loss: 0.3183 - val_accuracy: 0.9251\n",
      "Epoch 6/11\n",
      "345/345 [==============================] - 627s 2s/step - loss: 0.3434 - accuracy: 0.9083 - val_loss: 0.2954 - val_accuracy: 0.9424\n",
      "Epoch 7/11\n",
      "345/345 [==============================] - 632s 2s/step - loss: 0.3206 - accuracy: 0.9277 - val_loss: 0.3220 - val_accuracy: 0.9258\n",
      "Epoch 8/11\n",
      "345/345 [==============================] - 631s 2s/step - loss: 0.3219 - accuracy: 0.9260 - val_loss: 0.3102 - val_accuracy: 0.9323\n",
      "Epoch 9/11\n",
      "345/345 [==============================] - 633s 2s/step - loss: 0.3078 - accuracy: 0.9364 - val_loss: 0.3017 - val_accuracy: 0.9421\n",
      "Epoch 10/11\n",
      "345/345 [==============================] - 638s 2s/step - loss: 0.2950 - accuracy: 0.9416 - val_loss: 0.2795 - val_accuracy: 0.9526\n",
      "Epoch 11/11\n",
      "345/345 [==============================] - 628s 2s/step - loss: 0.2828 - accuracy: 0.9474 - val_loss: 0.2721 - val_accuracy: 0.9529\n",
      "86/86 [==============================] - 31s 334ms/step\n",
      "f1 score is  0.6625589483061511\n",
      "-----------fold 2--------------\n",
      "Found 11046 validated image filenames.\n",
      "Found 2762 validated image filenames.\n",
      "Epoch 1/11\n",
      "345/345 [==============================] - 710s 2s/step - loss: 0.5516 - accuracy: 0.7611 - val_loss: 0.8774 - val_accuracy: 0.6705\n",
      "Epoch 2/11\n",
      "345/345 [==============================] - 677s 2s/step - loss: 0.4241 - accuracy: 0.8608 - val_loss: 0.4308 - val_accuracy: 0.8382\n",
      "Epoch 3/11\n",
      "345/345 [==============================] - 675s 2s/step - loss: 0.3737 - accuracy: 0.8957 - val_loss: 0.3788 - val_accuracy: 0.8968\n",
      "Epoch 4/11\n",
      "345/345 [==============================] - 678s 2s/step - loss: 0.3655 - accuracy: 0.8957 - val_loss: 0.3439 - val_accuracy: 0.9098\n",
      "Epoch 5/11\n",
      "345/345 [==============================] - 678s 2s/step - loss: 0.3394 - accuracy: 0.9138 - val_loss: 0.3337 - val_accuracy: 0.9308\n",
      "Epoch 6/11\n",
      "345/345 [==============================] - 686s 2s/step - loss: 0.3320 - accuracy: 0.9228 - val_loss: 0.3651 - val_accuracy: 0.9102\n",
      "Epoch 7/11\n",
      "345/345 [==============================] - 686s 2s/step - loss: 0.3282 - accuracy: 0.9216 - val_loss: 0.3478 - val_accuracy: 0.9323\n",
      "Epoch 8/11\n",
      "345/345 [==============================] - 681s 2s/step - loss: 0.3150 - accuracy: 0.9282 - val_loss: 0.3008 - val_accuracy: 0.9526\n",
      "Epoch 9/11\n",
      "345/345 [==============================] - 678s 2s/step - loss: 0.3109 - accuracy: 0.9308 - val_loss: 0.3271 - val_accuracy: 0.9359\n",
      "Epoch 10/11\n",
      "345/345 [==============================] - 674s 2s/step - loss: 0.3100 - accuracy: 0.9356 - val_loss: 0.2927 - val_accuracy: 0.9464\n",
      "Epoch 11/11\n",
      "345/345 [==============================] - 673s 2s/step - loss: 0.3042 - accuracy: 0.9360 - val_loss: 0.2798 - val_accuracy: 0.9490\n",
      "86/86 [==============================] - 33s 350ms/step\n",
      "f1 score is  0.7888199241128058\n",
      "-----------fold 3--------------\n",
      "Found 11047 validated image filenames.\n",
      "Found 2761 validated image filenames.\n",
      "Epoch 1/11\n",
      "345/345 [==============================] - 754s 2s/step - loss: 0.5447 - accuracy: 0.7636 - val_loss: 0.5311 - val_accuracy: 0.7747\n",
      "Epoch 2/11\n",
      "345/345 [==============================] - 723s 2s/step - loss: 0.4128 - accuracy: 0.8674 - val_loss: 0.4269 - val_accuracy: 0.8638\n",
      "Epoch 3/11\n",
      "345/345 [==============================] - 722s 2s/step - loss: 0.3779 - accuracy: 0.8900 - val_loss: 0.3651 - val_accuracy: 0.8924\n",
      "Epoch 4/11\n",
      "345/345 [==============================] - 716s 2s/step - loss: 0.3563 - accuracy: 0.9059 - val_loss: 0.3687 - val_accuracy: 0.9008\n",
      "Epoch 5/11\n",
      "345/345 [==============================] - 714s 2s/step - loss: 0.3453 - accuracy: 0.9123 - val_loss: 0.3593 - val_accuracy: 0.9051\n",
      "Epoch 6/11\n",
      "345/345 [==============================] - 712s 2s/step - loss: 0.3298 - accuracy: 0.9213 - val_loss: 0.3047 - val_accuracy: 0.9395\n",
      "Epoch 7/11\n",
      "345/345 [==============================] - 713s 2s/step - loss: 0.3224 - accuracy: 0.9278 - val_loss: 0.3057 - val_accuracy: 0.9363\n",
      "Epoch 8/11\n",
      "345/345 [==============================] - 710s 2s/step - loss: 0.3111 - accuracy: 0.9329 - val_loss: 0.3600 - val_accuracy: 0.9109\n",
      "Epoch 9/11\n",
      "345/345 [==============================] - 712s 2s/step - loss: 0.3196 - accuracy: 0.9273 - val_loss: 0.3093 - val_accuracy: 0.9363\n",
      "Epoch 10/11\n",
      "345/345 [==============================] - 714s 2s/step - loss: 0.2859 - accuracy: 0.9485 - val_loss: 0.2815 - val_accuracy: 0.9504\n",
      "Epoch 11/11\n",
      "345/345 [==============================] - 715s 2s/step - loss: 0.2869 - accuracy: 0.9512 - val_loss: 0.2756 - val_accuracy: 0.9540\n",
      "86/86 [==============================] - 35s 382ms/step\n",
      "f1 score is  0.765882866719461\n",
      "-----------fold 4--------------\n",
      "Found 11047 validated image filenames.\n",
      "Found 2761 validated image filenames.\n",
      "Epoch 1/11\n",
      "345/345 [==============================] - 754s 2s/step - loss: 0.5565 - accuracy: 0.7523 - val_loss: 0.9381 - val_accuracy: 0.5665\n",
      "Epoch 2/11\n",
      "345/345 [==============================] - 696s 2s/step - loss: 0.4125 - accuracy: 0.8699 - val_loss: 0.4551 - val_accuracy: 0.8319\n",
      "Epoch 3/11\n",
      "345/345 [==============================] - 711s 2s/step - loss: 0.3758 - accuracy: 0.8903 - val_loss: 0.3859 - val_accuracy: 0.8779\n",
      "Epoch 4/11\n",
      "345/345 [==============================] - 739s 2s/step - loss: 0.3467 - accuracy: 0.9073 - val_loss: 0.3068 - val_accuracy: 0.9359\n",
      "Epoch 5/11\n",
      "345/345 [==============================] - 751s 2s/step - loss: 0.3434 - accuracy: 0.9077 - val_loss: 0.3700 - val_accuracy: 0.9095\n",
      "Epoch 6/11\n",
      "345/345 [==============================] - 759s 2s/step - loss: 0.3394 - accuracy: 0.9201 - val_loss: 0.2955 - val_accuracy: 0.9388\n",
      "Epoch 7/11\n",
      "345/345 [==============================] - 773s 2s/step - loss: 0.3165 - accuracy: 0.9286 - val_loss: 0.2910 - val_accuracy: 0.9486\n",
      "Epoch 8/11\n",
      "345/345 [==============================] - 754s 2s/step - loss: 0.3089 - accuracy: 0.9321 - val_loss: 0.3243 - val_accuracy: 0.9261\n",
      "Epoch 9/11\n",
      "345/345 [==============================] - 727s 2s/step - loss: 0.3192 - accuracy: 0.9295 - val_loss: 0.2958 - val_accuracy: 0.9475\n",
      "Epoch 10/11\n",
      "345/345 [==============================] - 722s 2s/step - loss: 0.3092 - accuracy: 0.9349 - val_loss: 0.2950 - val_accuracy: 0.9435\n",
      "Epoch 11/11\n",
      "345/345 [==============================] - 736s 2s/step - loss: 0.2833 - accuracy: 0.9507 - val_loss: 0.2735 - val_accuracy: 0.9540\n",
      "86/86 [==============================] - 38s 407ms/step\n",
      "f1 score is  0.7117564073923539\n"
     ]
    }
   ],
   "source": [
    "from sklearn.model_selection import KFold\n",
    "import gc\n",
    "\n",
    "from sklearn.metrics import classification_report,accuracy_score,f1_score\n",
    "classification_reports=[]\n",
    "kf = KFold(n_splits=5)\n",
    "history=[]\n",
    "accuracy=[]\n",
    "f1_scores=[]\n",
    "fold=0\n",
    "for train_index, test_index in kf.split(df):\n",
    "  train=df.iloc[train_index,:]\n",
    "  val=df.iloc[test_index,:]\n",
    "  print('-----------fold {}--------------'.format(fold))\n",
    "  train_generator=data_gen.flow_from_dataframe(train,directory='C:/Users/Raj/Downloads/covid/data',\n",
    "                                                      target_size=(img_shape,img_shape),\n",
    "                                                      x_col=\"file\",\n",
    "                                                      y_col=['covid','normal'],\n",
    "                                                      class_mode='raw',\n",
    "                                                      shuffle=True,\n",
    "                                                      batch_size=batch_size)\n",
    "\n",
    "  val_generator=data_gen.flow_from_dataframe(val,directory='C:/Users/Raj/Downloads/covid/data',\n",
    "                                                        target_size=(img_shape,img_shape),\n",
    "                                                        x_col=\"file\",\n",
    "                                                        y_col=['covid','normal'],\n",
    "                                                        class_mode='raw',\n",
    "                                                        shuffle=False,\n",
    "                                                        batch_size=batch_size)\n",
    "  #train_generator.next()[0].shape,train_generator.next()[1].shape\n",
    "  import efficientnet.tfkeras as efn\n",
    "  model =efn.EfficientNetB4(weights ='noisy-student', include_top=False, input_shape = (img_shape,img_shape,3))\n",
    "    \n",
    "  x = model.output\n",
    "  x = GlobalAveragePooling2D()(x)\n",
    "  x = Dropout(0.3)(x)\n",
    "  x = Dense(128, activation=\"relu\")(x)\n",
    "  #x = Dropout(0.3)(x)\n",
    "  x = Dense(64, activation=\"relu\")(x)\n",
    "  predictions = Dense(2, activation=\"sigmoid\")(x)\n",
    "  model = Model(inputs=model.input, outputs=predictions)\n",
    "\n",
    "  def custom_loss(y_true, y_pred):\n",
    "      return tf.keras.losses.categorical_crossentropy(y_true, y_pred, label_smoothing=0.1)\n",
    "  model.compile(optimizer='adam', loss=custom_loss, metrics=['accuracy'])\n",
    "\n",
    "  results = model.fit(train_generator,epochs=11,\n",
    "                              steps_per_epoch=train_generator.n/batch_size,\n",
    "                              validation_data=val_generator,\n",
    "                              validation_steps=val_generator.n/batch_size,\n",
    "                              callbacks=[ReduceLROnPlateau(monitor='val_loss', factor=0.5,patience=3, lr=0.01),\n",
    "                                         ModelCheckpoint('models_{}.hdf5'.format(fold), save_best_only=True, monitor='val_loss', mode='min')\n",
    "                                         ])\n",
    "  model.load_weights('modelss_{}.hdf5'.format(fold))\n",
    "  val_generator.reset()\n",
    "  y_pred=model.predict(val_generator,steps=val_generator.n/batch_size,verbose=1)\n",
    "  y_pred=y_pred.round().astype(int)\n",
    "  y_true=val.iloc[:,2::]\n",
    "  classification_reports.append(classification_report(y_true, y_pred,target_names=['covid','normal']))#\n",
    "  accuracy.append(accuracy_score(y_true,y_pred))\n",
    "  f1=f1_score(y_true,y_pred,average='macro')\n",
    "  print('f1 score is ', f1)\n",
    "  f1_scores.append(f1)\n",
    "  fold+=1\n"
   ]
  },
  {
   "cell_type": "code",
   "execution_count": 26,
   "metadata": {},
   "outputs": [
    {
     "data": {
      "text/plain": [
       "[0.775524981897176,\n",
       " 0.2632150615496017,\n",
       " 0.7324402606806661,\n",
       " 0.7037305324157914,\n",
       " 0.7852227453821079]"
      ]
     },
     "execution_count": 26,
     "metadata": {},
     "output_type": "execute_result"
    }
   ],
   "source": [
    "accuracy"
   ]
  },
  {
   "cell_type": "code",
   "execution_count": 27,
   "metadata": {},
   "outputs": [
    {
     "data": {
      "text/plain": [
       "['              precision    recall  f1-score   support\\n\\n       covid       0.79      0.55      0.65       769\\n      normal       0.84      0.93      0.88      1993\\n\\n   micro avg       0.83      0.83      0.83      2762\\n   macro avg       0.81      0.74      0.77      2762\\nweighted avg       0.82      0.83      0.82      2762\\n samples avg       0.80      0.83      0.81      2762\\n',\n",
       " '              precision    recall  f1-score   support\\n\\n       covid       0.32      0.90      0.47       689\\n      normal       0.75      1.00      0.86      2073\\n\\n   micro avg       0.57      0.98      0.72      2762\\n   macro avg       0.53      0.95      0.66      2762\\nweighted avg       0.64      0.98      0.76      2762\\n samples avg       0.62      0.98      0.74      2762\\n',\n",
       " '              precision    recall  f1-score   support\\n\\n       covid       0.69      0.72      0.71       727\\n      normal       0.83      0.91      0.87      2035\\n\\n   micro avg       0.80      0.86      0.83      2762\\n   macro avg       0.76      0.82      0.79      2762\\nweighted avg       0.80      0.86      0.83      2762\\n samples avg       0.80      0.86      0.82      2762\\n',\n",
       " '              precision    recall  f1-score   support\\n\\n       covid       0.64      0.81      0.71       744\\n      normal       0.96      0.72      0.82      2017\\n\\n   micro avg       0.83      0.74      0.78      2761\\n   macro avg       0.80      0.76      0.77      2761\\nweighted avg       0.87      0.74      0.79      2761\\n samples avg       0.72      0.74      0.73      2761\\n',\n",
       " '              precision    recall  f1-score   support\\n\\n       covid       0.94      0.36      0.52       687\\n      normal       0.88      0.94      0.91      2074\\n\\n   micro avg       0.88      0.79      0.84      2761\\n   macro avg       0.91      0.65      0.71      2761\\nweighted avg       0.89      0.79      0.81      2761\\n samples avg       0.79      0.79      0.79      2761\\n']"
      ]
     },
     "execution_count": 27,
     "metadata": {},
     "output_type": "execute_result"
    }
   ],
   "source": [
    "classification_reports"
   ]
  },
  {
   "cell_type": "code",
   "execution_count": 28,
   "metadata": {},
   "outputs": [
    {
     "data": {
      "text/plain": [
       "[0.765977606044146,\n",
       " 0.6625589483061511,\n",
       " 0.7888199241128058,\n",
       " 0.765882866719461,\n",
       " 0.7117564073923539]"
      ]
     },
     "execution_count": 28,
     "metadata": {},
     "output_type": "execute_result"
    }
   ],
   "source": [
    "f1_scores"
   ]
  },
  {
   "cell_type": "code",
   "execution_count": 37,
   "metadata": {},
   "outputs": [
    {
     "data": {
      "image/png": "[encoded data removed]",
      "text/plain": [
       "<Figure size 1080x360 with 2 Axes>"
      ]
     },
     "metadata": {
      "needs_background": "light"
     },
     "output_type": "display_data"
    }
   ],
   "source": [
    "import matplotlib.pyplot as plt\n",
    "def plot_acc_loss(results, epochs):\n",
    " acc = results.history['accuracy']\n",
    " loss = results.history['loss']\n",
    " val_acc = results.history['val_accuracy']\n",
    " val_loss = results.history['val_loss']\n",
    " plt.figure(figsize=(15, 5))\n",
    " plt.subplot(121)\n",
    " plt.plot(range(1,epochs), acc[1:], label='Train_acc')\n",
    " plt.plot(range(1,epochs), val_acc[1:], label='Test_acc')\n",
    " plt.title('Accuracy over' + str(epochs) + 'Epochs', size=15)\n",
    " plt.legend()\n",
    " plt.grid(True)\n",
    " plt.subplot(122)\n",
    " plt.plot(range(1,epochs), loss[1:], label='Train_loss')\n",
    " plt.plot(range(1,epochs), val_loss[1:], label='Test_loss')\n",
    " plt.title('Loss over' + str(epochs) +  'Epochs', size=15)\n",
    " plt.legend()\n",
    " plt.grid(True)\n",
    " plt.show()\n",
    " \n",
    "plot_acc_loss(results, 11)"
   ]
  },
  {
   "cell_type": "code",
   "execution_count": 30,
   "metadata": {},
   "outputs": [],
   "source": [
    "model_yaml = model.to_yaml()\n",
    "with open(\"model.yaml\", \"w\") as yaml_file:\n",
    "    yaml_file.write(model_yaml)"
   ]
  }
 ],
 "metadata": {
  "kernelspec": {
   "display_name": "Python 3",
   "language": "python",
   "name": "python3"
  },
  "language_info": {
   "codemirror_mode": {
    "name": "ipython",
    "version": 3
   },
   "file_extension": ".py",
   "mimetype": "text/x-python",
   "name": "python",
   "nbconvert_exporter": "python",
   "pygments_lexer": "ipython3",
   "version": "3.8.3"
  }
 },
 "nbformat": 4,
 "nbformat_minor": 4
}
